{
 "cells": [
  {
   "cell_type": "code",
   "execution_count": 1,
   "metadata": {},
   "outputs": [],
   "source": [
    "import os\n",
    "os.chdir('../scripts')\n",
    "import utils\n",
    "import plot\n"
   ]
  },
  {
   "cell_type": "code",
   "execution_count": 2,
   "metadata": {},
   "outputs": [
    {
     "name": "stdout",
     "output_type": "stream",
     "text": [
      "/home/musse/Documents/Tenx/kaim-week-1/scripts\n"
     ]
    }
   ],
   "source": [
    "print(os.getcwd())\n"
   ]
  },
  {
   "cell_type": "code",
   "execution_count": 3,
   "metadata": {},
   "outputs": [],
   "source": [
    "# Check if the ../data/ folder exists\n",
    "if not os.path.exists('../data/sentiment _analysis/'):\n",
    "    raise FileNotFoundError(\"The '../data/' directory does not exist. Please ensure the data directory is available.\")\n"
   ]
  },
  {
   "cell_type": "code",
   "execution_count": 4,
   "metadata": {},
   "outputs": [],
   "source": [
    "#load sentiment data\n",
    "sentiment_df = utils.read_csv_file('../data/sentiment _analysis/sentiment_analysis_results.csv')"
   ]
  },
  {
   "cell_type": "code",
   "execution_count": 5,
   "metadata": {},
   "outputs": [],
   "source": [
    "#load stock data\n",
    "stock_df = utils.read_csv_file('../data/finance_data/stock_data_extracted.csv')\n"
   ]
  },
  {
   "cell_type": "code",
   "execution_count": null,
   "metadata": {},
   "outputs": [],
   "source": [
    "\n",
    "# Find common dates\n",
    "common_dates = set(sentiment_df['date']).intersection(set(stock_df['date']))\n",
    "\n",
    "# Filter datasets to include only common dates\n",
    "sentiment_df = sentiment_df[sentiment_df['date'].isin(common_dates)]\n",
    "stock_df = stock_df[stock_df['date'].isin(common_dates)]\n"
   ]
  }
 ],
 "metadata": {
  "kernelspec": {
   "display_name": "venv",
   "language": "python",
   "name": "python3"
  },
  "language_info": {
   "codemirror_mode": {
    "name": "ipython",
    "version": 3
   },
   "file_extension": ".py",
   "mimetype": "text/x-python",
   "name": "python",
   "nbconvert_exporter": "python",
   "pygments_lexer": "ipython3",
   "version": "3.12.3"
  }
 },
 "nbformat": 4,
 "nbformat_minor": 2
}
